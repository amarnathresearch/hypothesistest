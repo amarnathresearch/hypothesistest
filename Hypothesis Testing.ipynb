{
 "cells": [
  {
   "cell_type": "code",
   "execution_count": 5,
   "metadata": {},
   "outputs": [],
   "source": []
  },
  {
   "cell_type": "code",
   "execution_count": 55,
   "metadata": {},
   "outputs": [
    {
     "data": {
      "image/png": "[encoded data removed]",
      "text/plain": [
       "<Figure size 432x288 with 2 Axes>"
      ]
     },
     "metadata": {
      "needs_background": "light"
     },
     "output_type": "display_data"
    }
   ],
   "source": [
    "import seaborn as sns\n",
    "import matplotlib.pyplot as plt     \n",
    "\n",
    "conf_mat = [[10, 5], [6, 7]]\n",
    "ax= plt.subplot()\n",
    "sns.heatmap(conf_mat, annot=True);  #annot=True to annotate cells, ftm='g' to disable scientific notation\n",
    "plt.rcParams['xtick.top'] = False\n",
    "ax.set_title('Confusion Matrix'); \n",
    "ax.xaxis.set_ticklabels(['Positive', 'Negative']); \n",
    "ax.yaxis.set_ticklabels(['True', 'False']);\n",
    "\n"
   ]
  },
  {
   "cell_type": "code",
   "execution_count": 56,
   "metadata": {},
   "outputs": [
    {
     "data": {
      "image/png": "[encoded data removed]",
      "text/plain": [
       "<Figure size 432x288 with 2 Axes>"
      ]
     },
     "metadata": {
      "needs_background": "light"
     },
     "output_type": "display_data"
    }
   ],
   "source": [
    "conf_mat = [[10, 5], [6, 7]]\n",
    "ax= plt.subplot()\n",
    "sns.heatmap(conf_mat, annot=True);  #annot=True to annotate cells, ftm='g' to disable scientific notation\n",
    "plt.rcParams['xtick.top'] = False\n",
    "ax.set_title('Confusion Matrix'); \n",
    "ax.xaxis.set_ticklabels(['Innocent', 'Guilty']); \n",
    "ax.yaxis.set_ticklabels(['Innocent', 'Guilty']);"
   ]
  },
  {
   "cell_type": "code",
   "execution_count": 57,
   "metadata": {},
   "outputs": [],
   "source": [
    "# True Positive: The person is innocent and the judge identifies the person as innocent\n",
    "# Type 2 error True Negative: The person is innocent and the judge identifies the person as guilty\n",
    "# Type 1 error False Positive: The person is guilty and the judge identifies the person as innocent\n",
    "# False Negative: The person is guilty and the judge identifies the person as guilty"
   ]
  },
  {
   "cell_type": "code",
   "execution_count": 59,
   "metadata": {
    "scrolled": true
   },
   "outputs": [
    {
     "data": {
      "image/png": "[encoded data removed]",
      "text/plain": [
       "<Figure size 432x288 with 2 Axes>"
      ]
     },
     "metadata": {
      "needs_background": "light"
     },
     "output_type": "display_data"
    }
   ],
   "source": [
    "conf_mat = [[10, 5], [6, 7]]\n",
    "ax= plt.subplot()\n",
    "sns.heatmap(conf_mat, annot=True);  #annot=True to annotate cells, ftm='g' to disable scientific notation\n",
    "plt.rcParams['xtick.top'] = False\n",
    "ax.set_title('Confusion Matrix'); \n",
    "ax.xaxis.set_ticklabels(['Null Hypothesis', 'Alternate Hypothesis']); \n",
    "ax.yaxis.set_ticklabels(['Null Hypothesis', 'Alternate Hypothesis']);\n",
    "# True Positive = 1- alpha (95% or .95 Probability)\n",
    "# True Negative = Type 2 error = 5\n",
    "# False Positive = Type 1 error = 6 = alpha(5% or .05 Probability) "
   ]
  },
  {
   "cell_type": "code",
   "execution_count": 69,
   "metadata": {},
   "outputs": [],
   "source": [
    "# Steps to perform Hypothesis Testing:\n",
    "\n",
    "# Set the Hypothesis\n",
    "# Set the Significance Level, Criteria for a decision\n",
    "# Compute the test statistics\n",
    "# Make a decision"
   ]
  },
  {
   "cell_type": "code",
   "execution_count": 70,
   "metadata": {},
   "outputs": [],
   "source": [
    "# z = ((sample mean) - (population mean)) / (sd of population / sqrt(n))"
   ]
  },
  {
   "cell_type": "code",
   "execution_count": 71,
   "metadata": {},
   "outputs": [],
   "source": [
    "z = -1.39"
   ]
  },
  {
   "cell_type": "code",
   "execution_count": 72,
   "metadata": {},
   "outputs": [
    {
     "data": {
      "text/plain": [
       "True"
      ]
     },
     "execution_count": 72,
     "metadata": {},
     "output_type": "execute_result"
    }
   ],
   "source": [
    "# Find the table for finding p value\n",
    "p = 0.0823\n",
    "\n",
    "# p > significance level\n",
    "p > 0.05\n",
    "\n",
    "# Accept the null hypothesis  There is no problem with public hospital"
   ]
  },
  {
   "cell_type": "code",
   "execution_count": null,
   "metadata": {},
   "outputs": [],
   "source": []
  },
  {
   "cell_type": "code",
   "execution_count": null,
   "metadata": {},
   "outputs": [],
   "source": []
  },
  {
   "cell_type": "code",
   "execution_count": 73,
   "metadata": {},
   "outputs": [
    {
     "data": {
      "text/html": [
       "<div>\n",
       "<style scoped>\n",
       "    .dataframe tbody tr th:only-of-type {\n",
       "        vertical-align: middle;\n",
       "    }\n",
       "\n",
       "    .dataframe tbody tr th {\n",
       "        vertical-align: top;\n",
       "    }\n",
       "\n",
       "    .dataframe thead th {\n",
       "        text-align: right;\n",
       "    }\n",
       "</style>\n",
       "<table border=\"1\" class=\"dataframe\">\n",
       "  <thead>\n",
       "    <tr style=\"text-align: right;\">\n",
       "      <th></th>\n",
       "      <th>Province/State</th>\n",
       "      <th>Country/Region</th>\n",
       "      <th>Last Update</th>\n",
       "      <th>Confirmed</th>\n",
       "      <th>Deaths</th>\n",
       "      <th>Recovered</th>\n",
       "      <th>Latitude</th>\n",
       "      <th>Longitude</th>\n",
       "      <th>Temprature</th>\n",
       "      <th>Humidity</th>\n",
       "      <th>Temp_Cat</th>\n",
       "      <th>Humid_Cat</th>\n",
       "    </tr>\n",
       "  </thead>\n",
       "  <tbody>\n",
       "    <tr>\n",
       "      <th>0</th>\n",
       "      <td>Hubei</td>\n",
       "      <td>Mainland China</td>\n",
       "      <td>2020-03-10T15:13:05</td>\n",
       "      <td>67760</td>\n",
       "      <td>3024</td>\n",
       "      <td>47743</td>\n",
       "      <td>30.9756</td>\n",
       "      <td>112.2707</td>\n",
       "      <td>12.5</td>\n",
       "      <td>86</td>\n",
       "      <td>1</td>\n",
       "      <td>1</td>\n",
       "    </tr>\n",
       "    <tr>\n",
       "      <th>1</th>\n",
       "      <td>NaN</td>\n",
       "      <td>Italy</td>\n",
       "      <td>2020-03-10T17:53:02</td>\n",
       "      <td>10149</td>\n",
       "      <td>631</td>\n",
       "      <td>724</td>\n",
       "      <td>43.0000</td>\n",
       "      <td>12.0000</td>\n",
       "      <td>12.9</td>\n",
       "      <td>64</td>\n",
       "      <td>1</td>\n",
       "      <td>1</td>\n",
       "    </tr>\n",
       "    <tr>\n",
       "      <th>2</th>\n",
       "      <td>NaN</td>\n",
       "      <td>Iran (Islamic Republic of)</td>\n",
       "      <td>2020-03-10T19:13:20</td>\n",
       "      <td>8042</td>\n",
       "      <td>291</td>\n",
       "      <td>2731</td>\n",
       "      <td>32.0000</td>\n",
       "      <td>53.0000</td>\n",
       "      <td>11.9</td>\n",
       "      <td>9</td>\n",
       "      <td>0</td>\n",
       "      <td>0</td>\n",
       "    </tr>\n",
       "    <tr>\n",
       "      <th>3</th>\n",
       "      <td>NaN</td>\n",
       "      <td>Republic of Korea</td>\n",
       "      <td>2020-03-10T19:13:20</td>\n",
       "      <td>7513</td>\n",
       "      <td>54</td>\n",
       "      <td>247</td>\n",
       "      <td>36.0000</td>\n",
       "      <td>128.0000</td>\n",
       "      <td>4.9</td>\n",
       "      <td>41</td>\n",
       "      <td>0</td>\n",
       "      <td>0</td>\n",
       "    </tr>\n",
       "    <tr>\n",
       "      <th>4</th>\n",
       "      <td>NaN</td>\n",
       "      <td>France</td>\n",
       "      <td>2020-03-10T18:53:02</td>\n",
       "      <td>1784</td>\n",
       "      <td>33</td>\n",
       "      <td>12</td>\n",
       "      <td>47.0000</td>\n",
       "      <td>2.0000</td>\n",
       "      <td>11.9</td>\n",
       "      <td>93</td>\n",
       "      <td>0</td>\n",
       "      <td>0</td>\n",
       "    </tr>\n",
       "    <tr>\n",
       "      <th>...</th>\n",
       "      <td>...</td>\n",
       "      <td>...</td>\n",
       "      <td>...</td>\n",
       "      <td>...</td>\n",
       "      <td>...</td>\n",
       "      <td>...</td>\n",
       "      <td>...</td>\n",
       "      <td>...</td>\n",
       "      <td>...</td>\n",
       "      <td>...</td>\n",
       "      <td>...</td>\n",
       "      <td>...</td>\n",
       "    </tr>\n",
       "    <tr>\n",
       "      <th>201</th>\n",
       "      <td>New Mexico</td>\n",
       "      <td>US</td>\n",
       "      <td>2020-03-10T02:33:04</td>\n",
       "      <td>0</td>\n",
       "      <td>0</td>\n",
       "      <td>0</td>\n",
       "      <td>34.8405</td>\n",
       "      <td>-106.2485</td>\n",
       "      <td>10.0</td>\n",
       "      <td>75</td>\n",
       "      <td>0</td>\n",
       "      <td>0</td>\n",
       "    </tr>\n",
       "    <tr>\n",
       "      <th>202</th>\n",
       "      <td>North Dakota</td>\n",
       "      <td>US</td>\n",
       "      <td>2020-03-10T02:33:04</td>\n",
       "      <td>0</td>\n",
       "      <td>0</td>\n",
       "      <td>0</td>\n",
       "      <td>47.5289</td>\n",
       "      <td>-99.7840</td>\n",
       "      <td>2.7</td>\n",
       "      <td>89</td>\n",
       "      <td>0</td>\n",
       "      <td>0</td>\n",
       "    </tr>\n",
       "    <tr>\n",
       "      <th>203</th>\n",
       "      <td>South Dakota</td>\n",
       "      <td>US</td>\n",
       "      <td>2020-03-10T02:33:04</td>\n",
       "      <td>0</td>\n",
       "      <td>0</td>\n",
       "      <td>0</td>\n",
       "      <td>44.2998</td>\n",
       "      <td>-99.4388</td>\n",
       "      <td>5.9</td>\n",
       "      <td>69</td>\n",
       "      <td>0</td>\n",
       "      <td>0</td>\n",
       "    </tr>\n",
       "    <tr>\n",
       "      <th>204</th>\n",
       "      <td>West Virginia</td>\n",
       "      <td>US</td>\n",
       "      <td>2020-03-10T02:33:04</td>\n",
       "      <td>0</td>\n",
       "      <td>0</td>\n",
       "      <td>0</td>\n",
       "      <td>38.4912</td>\n",
       "      <td>-80.9545</td>\n",
       "      <td>10.6</td>\n",
       "      <td>96</td>\n",
       "      <td>0</td>\n",
       "      <td>0</td>\n",
       "    </tr>\n",
       "    <tr>\n",
       "      <th>205</th>\n",
       "      <td>Wyoming</td>\n",
       "      <td>US</td>\n",
       "      <td>2020-03-10T02:33:04</td>\n",
       "      <td>0</td>\n",
       "      <td>0</td>\n",
       "      <td>0</td>\n",
       "      <td>42.7560</td>\n",
       "      <td>-107.3025</td>\n",
       "      <td>-2.7</td>\n",
       "      <td>91</td>\n",
       "      <td>0</td>\n",
       "      <td>0</td>\n",
       "    </tr>\n",
       "  </tbody>\n",
       "</table>\n",
       "<p>206 rows × 12 columns</p>\n",
       "</div>"
      ],
      "text/plain": [
       "    Province/State              Country/Region          Last Update  \\\n",
       "0            Hubei              Mainland China  2020-03-10T15:13:05   \n",
       "1              NaN                       Italy  2020-03-10T17:53:02   \n",
       "2              NaN  Iran (Islamic Republic of)  2020-03-10T19:13:20   \n",
       "3              NaN           Republic of Korea  2020-03-10T19:13:20   \n",
       "4              NaN                      France  2020-03-10T18:53:02   \n",
       "..             ...                         ...                  ...   \n",
       "201     New Mexico                          US  2020-03-10T02:33:04   \n",
       "202   North Dakota                          US  2020-03-10T02:33:04   \n",
       "203   South Dakota                          US  2020-03-10T02:33:04   \n",
       "204  West Virginia                          US  2020-03-10T02:33:04   \n",
       "205        Wyoming                          US  2020-03-10T02:33:04   \n",
       "\n",
       "     Confirmed  Deaths  Recovered  Latitude  Longitude  Temprature  Humidity  \\\n",
       "0        67760    3024      47743   30.9756   112.2707        12.5        86   \n",
       "1        10149     631        724   43.0000    12.0000        12.9        64   \n",
       "2         8042     291       2731   32.0000    53.0000        11.9         9   \n",
       "3         7513      54        247   36.0000   128.0000         4.9        41   \n",
       "4         1784      33         12   47.0000     2.0000        11.9        93   \n",
       "..         ...     ...        ...       ...        ...         ...       ...   \n",
       "201          0       0          0   34.8405  -106.2485        10.0        75   \n",
       "202          0       0          0   47.5289   -99.7840         2.7        89   \n",
       "203          0       0          0   44.2998   -99.4388         5.9        69   \n",
       "204          0       0          0   38.4912   -80.9545        10.6        96   \n",
       "205          0       0          0   42.7560  -107.3025        -2.7        91   \n",
       "\n",
       "     Temp_Cat  Humid_Cat  \n",
       "0           1          1  \n",
       "1           1          1  \n",
       "2           0          0  \n",
       "3           0          0  \n",
       "4           0          0  \n",
       "..        ...        ...  \n",
       "201         0          0  \n",
       "202         0          0  \n",
       "203         0          0  \n",
       "204         0          0  \n",
       "205         0          0  \n",
       "\n",
       "[206 rows x 12 columns]"
      ]
     },
     "execution_count": 73,
     "metadata": {},
     "output_type": "execute_result"
    }
   ],
   "source": [
    "import pandas as pd\n",
    "import numpy as np\n",
    "corona = pd.read_csv('Corona_Updated.csv')\n",
    "# Null Hypothesis: Temperature doesn’t affect COV-19 Outbreak\n",
    "# Alternate Hypothesis: Temperature does affect COV-19 Outbreak\n",
    "corona"
   ]
  },
  {
   "cell_type": "code",
   "execution_count": null,
   "metadata": {},
   "outputs": [],
   "source": []
  },
  {
   "cell_type": "code",
   "execution_count": 74,
   "metadata": {},
   "outputs": [],
   "source": [
    "corona['Temp_Cat'] = corona['Temprature'].apply(lambda x : 0 if x < 24 else 1)\n",
    "corona_t = corona[['Confirmed', 'Temp_Cat']]"
   ]
  },
  {
   "cell_type": "code",
   "execution_count": 75,
   "metadata": {},
   "outputs": [
    {
     "data": {
      "text/html": [
       "<div>\n",
       "<style scoped>\n",
       "    .dataframe tbody tr th:only-of-type {\n",
       "        vertical-align: middle;\n",
       "    }\n",
       "\n",
       "    .dataframe tbody tr th {\n",
       "        vertical-align: top;\n",
       "    }\n",
       "\n",
       "    .dataframe thead th {\n",
       "        text-align: right;\n",
       "    }\n",
       "</style>\n",
       "<table border=\"1\" class=\"dataframe\">\n",
       "  <thead>\n",
       "    <tr style=\"text-align: right;\">\n",
       "      <th></th>\n",
       "      <th>Confirmed</th>\n",
       "      <th>Temp_Cat</th>\n",
       "    </tr>\n",
       "  </thead>\n",
       "  <tbody>\n",
       "    <tr>\n",
       "      <th>0</th>\n",
       "      <td>67760</td>\n",
       "      <td>0</td>\n",
       "    </tr>\n",
       "    <tr>\n",
       "      <th>1</th>\n",
       "      <td>10149</td>\n",
       "      <td>0</td>\n",
       "    </tr>\n",
       "    <tr>\n",
       "      <th>2</th>\n",
       "      <td>8042</td>\n",
       "      <td>0</td>\n",
       "    </tr>\n",
       "    <tr>\n",
       "      <th>3</th>\n",
       "      <td>7513</td>\n",
       "      <td>0</td>\n",
       "    </tr>\n",
       "    <tr>\n",
       "      <th>4</th>\n",
       "      <td>1784</td>\n",
       "      <td>0</td>\n",
       "    </tr>\n",
       "    <tr>\n",
       "      <th>...</th>\n",
       "      <td>...</td>\n",
       "      <td>...</td>\n",
       "    </tr>\n",
       "    <tr>\n",
       "      <th>201</th>\n",
       "      <td>0</td>\n",
       "      <td>0</td>\n",
       "    </tr>\n",
       "    <tr>\n",
       "      <th>202</th>\n",
       "      <td>0</td>\n",
       "      <td>0</td>\n",
       "    </tr>\n",
       "    <tr>\n",
       "      <th>203</th>\n",
       "      <td>0</td>\n",
       "      <td>0</td>\n",
       "    </tr>\n",
       "    <tr>\n",
       "      <th>204</th>\n",
       "      <td>0</td>\n",
       "      <td>0</td>\n",
       "    </tr>\n",
       "    <tr>\n",
       "      <th>205</th>\n",
       "      <td>0</td>\n",
       "      <td>0</td>\n",
       "    </tr>\n",
       "  </tbody>\n",
       "</table>\n",
       "<p>206 rows × 2 columns</p>\n",
       "</div>"
      ],
      "text/plain": [
       "     Confirmed  Temp_Cat\n",
       "0        67760         0\n",
       "1        10149         0\n",
       "2         8042         0\n",
       "3         7513         0\n",
       "4         1784         0\n",
       "..         ...       ...\n",
       "201          0         0\n",
       "202          0         0\n",
       "203          0         0\n",
       "204          0         0\n",
       "205          0         0\n",
       "\n",
       "[206 rows x 2 columns]"
      ]
     },
     "execution_count": 75,
     "metadata": {},
     "output_type": "execute_result"
    }
   ],
   "source": [
    "corona_t"
   ]
  },
  {
   "cell_type": "code",
   "execution_count": 76,
   "metadata": {},
   "outputs": [],
   "source": [
    "def TwoSampZ(X1, X2, sigma1, sigma2, N1, N2):\n",
    "    from numpy import sqrt, abs, round\n",
    "    from scipy.stats import norm\n",
    "    ovr_sigma = sqrt(sigma1**2/N1 + sigma2**2/N2)\n",
    "    z = (X1 - X2)/ovr_sigma\n",
    "    pval = 2*(1 - norm.cdf(abs(z)))\n",
    "    return z, pval\n"
   ]
  },
  {
   "cell_type": "code",
   "execution_count": 77,
   "metadata": {},
   "outputs": [
    {
     "name": "stdout",
     "output_type": "stream",
     "text": [
      "0.102054\n",
      "Do not reject Null Hypothesis\n"
     ]
    }
   ],
   "source": [
    "d1 = corona_t[(corona_t['Temp_Cat']==1)]['Confirmed']\n",
    "d2 = corona_t[(corona_t['Temp_Cat']==0)]['Confirmed']\n",
    "\n",
    "m1, m2 = d1.mean(), d2.mean()\n",
    "sd1, sd2 = d1.std(), d2.std()\n",
    "n1, n2 = d1.shape[0], d2.shape[0]\n",
    "\n",
    "z, p = TwoSampZ(m1, m2, sd1, sd2, n1, n2)\n",
    "z_score = np.round(z,8)\n",
    "p_val = np.round(p,6)\n",
    "\n",
    "if (p_val<0.05):\n",
    "    Hypothesis_Status = 'Reject Null Hypothesis - Choose Alternate Hypothesis'\n",
    "else:\n",
    "    Hypothesis_Status = 'Do not reject Null Hypothesis'\n",
    "\n",
    "print (p_val)\n",
    "print (Hypothesis_Status)"
   ]
  },
  {
   "cell_type": "code",
   "execution_count": null,
   "metadata": {},
   "outputs": [],
   "source": []
  },
  {
   "cell_type": "code",
   "execution_count": 78,
   "metadata": {},
   "outputs": [],
   "source": [
    "from scipy import stats\n",
    "import pandas as pd\n",
    "# import the data\n",
    "df= pd.read_csv(\"iris.csv\")\n",
    "setosa = df[(df['species'] == 'setosa')]\n",
    "versicolor = df[(df['species'] == 'versicolor')]\n"
   ]
  },
  {
   "cell_type": "code",
   "execution_count": 80,
   "metadata": {},
   "outputs": [
    {
     "data": {
      "text/html": [
       "<div>\n",
       "<style scoped>\n",
       "    .dataframe tbody tr th:only-of-type {\n",
       "        vertical-align: middle;\n",
       "    }\n",
       "\n",
       "    .dataframe tbody tr th {\n",
       "        vertical-align: top;\n",
       "    }\n",
       "\n",
       "    .dataframe thead th {\n",
       "        text-align: right;\n",
       "    }\n",
       "</style>\n",
       "<table border=\"1\" class=\"dataframe\">\n",
       "  <thead>\n",
       "    <tr style=\"text-align: right;\">\n",
       "      <th></th>\n",
       "      <th>sepal_length</th>\n",
       "      <th>sepal_width</th>\n",
       "      <th>petal_length</th>\n",
       "      <th>petal_width</th>\n",
       "      <th>species</th>\n",
       "    </tr>\n",
       "  </thead>\n",
       "  <tbody>\n",
       "    <tr>\n",
       "      <th>0</th>\n",
       "      <td>5.1</td>\n",
       "      <td>3.5</td>\n",
       "      <td>1.4</td>\n",
       "      <td>0.2</td>\n",
       "      <td>setosa</td>\n",
       "    </tr>\n",
       "    <tr>\n",
       "      <th>1</th>\n",
       "      <td>4.9</td>\n",
       "      <td>3.0</td>\n",
       "      <td>1.4</td>\n",
       "      <td>0.2</td>\n",
       "      <td>setosa</td>\n",
       "    </tr>\n",
       "    <tr>\n",
       "      <th>2</th>\n",
       "      <td>4.7</td>\n",
       "      <td>3.2</td>\n",
       "      <td>1.3</td>\n",
       "      <td>0.2</td>\n",
       "      <td>setosa</td>\n",
       "    </tr>\n",
       "    <tr>\n",
       "      <th>3</th>\n",
       "      <td>4.6</td>\n",
       "      <td>3.1</td>\n",
       "      <td>1.5</td>\n",
       "      <td>0.2</td>\n",
       "      <td>setosa</td>\n",
       "    </tr>\n",
       "    <tr>\n",
       "      <th>4</th>\n",
       "      <td>5.0</td>\n",
       "      <td>3.6</td>\n",
       "      <td>1.4</td>\n",
       "      <td>0.2</td>\n",
       "      <td>setosa</td>\n",
       "    </tr>\n",
       "  </tbody>\n",
       "</table>\n",
       "</div>"
      ],
      "text/plain": [
       "   sepal_length  sepal_width  petal_length  petal_width species\n",
       "0           5.1          3.5           1.4          0.2  setosa\n",
       "1           4.9          3.0           1.4          0.2  setosa\n",
       "2           4.7          3.2           1.3          0.2  setosa\n",
       "3           4.6          3.1           1.5          0.2  setosa\n",
       "4           5.0          3.6           1.4          0.2  setosa"
      ]
     },
     "execution_count": 80,
     "metadata": {},
     "output_type": "execute_result"
    }
   ],
   "source": [
    "setosa.head()"
   ]
  },
  {
   "cell_type": "code",
   "execution_count": 81,
   "metadata": {},
   "outputs": [
    {
     "data": {
      "text/html": [
       "<div>\n",
       "<style scoped>\n",
       "    .dataframe tbody tr th:only-of-type {\n",
       "        vertical-align: middle;\n",
       "    }\n",
       "\n",
       "    .dataframe tbody tr th {\n",
       "        vertical-align: top;\n",
       "    }\n",
       "\n",
       "    .dataframe thead th {\n",
       "        text-align: right;\n",
       "    }\n",
       "</style>\n",
       "<table border=\"1\" class=\"dataframe\">\n",
       "  <thead>\n",
       "    <tr style=\"text-align: right;\">\n",
       "      <th></th>\n",
       "      <th>sepal_length</th>\n",
       "      <th>sepal_width</th>\n",
       "      <th>petal_length</th>\n",
       "      <th>petal_width</th>\n",
       "      <th>species</th>\n",
       "    </tr>\n",
       "  </thead>\n",
       "  <tbody>\n",
       "    <tr>\n",
       "      <th>50</th>\n",
       "      <td>7.0</td>\n",
       "      <td>3.2</td>\n",
       "      <td>4.7</td>\n",
       "      <td>1.4</td>\n",
       "      <td>versicolor</td>\n",
       "    </tr>\n",
       "    <tr>\n",
       "      <th>51</th>\n",
       "      <td>6.4</td>\n",
       "      <td>3.2</td>\n",
       "      <td>4.5</td>\n",
       "      <td>1.5</td>\n",
       "      <td>versicolor</td>\n",
       "    </tr>\n",
       "    <tr>\n",
       "      <th>52</th>\n",
       "      <td>6.9</td>\n",
       "      <td>3.1</td>\n",
       "      <td>4.9</td>\n",
       "      <td>1.5</td>\n",
       "      <td>versicolor</td>\n",
       "    </tr>\n",
       "    <tr>\n",
       "      <th>53</th>\n",
       "      <td>5.5</td>\n",
       "      <td>2.3</td>\n",
       "      <td>4.0</td>\n",
       "      <td>1.3</td>\n",
       "      <td>versicolor</td>\n",
       "    </tr>\n",
       "    <tr>\n",
       "      <th>54</th>\n",
       "      <td>6.5</td>\n",
       "      <td>2.8</td>\n",
       "      <td>4.6</td>\n",
       "      <td>1.5</td>\n",
       "      <td>versicolor</td>\n",
       "    </tr>\n",
       "  </tbody>\n",
       "</table>\n",
       "</div>"
      ],
      "text/plain": [
       "    sepal_length  sepal_width  petal_length  petal_width     species\n",
       "50           7.0          3.2           4.7          1.4  versicolor\n",
       "51           6.4          3.2           4.5          1.5  versicolor\n",
       "52           6.9          3.1           4.9          1.5  versicolor\n",
       "53           5.5          2.3           4.0          1.3  versicolor\n",
       "54           6.5          2.8           4.6          1.5  versicolor"
      ]
     },
     "execution_count": 81,
     "metadata": {},
     "output_type": "execute_result"
    }
   ],
   "source": [
    "versicolor.head()"
   ]
  },
  {
   "cell_type": "code",
   "execution_count": 82,
   "metadata": {},
   "outputs": [
    {
     "data": {
      "text/plain": [
       "Ttest_indResult(statistic=9.282772555558111, pvalue=4.362239016010214e-15)"
      ]
     },
     "execution_count": 82,
     "metadata": {},
     "output_type": "execute_result"
    }
   ],
   "source": [
    "stats.ttest_ind(setosa['sepal_width'], versicolor['sepal_width'])\n"
   ]
  },
  {
   "cell_type": "code",
   "execution_count": 86,
   "metadata": {},
   "outputs": [],
   "source": [
    "# p-value very very small\n",
    "# Reject the null hypothesis because pvalues < .05\n",
    "# Support alternative hypothesis."
   ]
  },
  {
   "cell_type": "code",
   "execution_count": null,
   "metadata": {},
   "outputs": [],
   "source": []
  }
 ],
 "metadata": {
  "kernelspec": {
   "display_name": "Python 3",
   "language": "python",
   "name": "python3"
  },
  "language_info": {
   "codemirror_mode": {
    "name": "ipython",
    "version": 3
   },
   "file_extension": ".py",
   "mimetype": "text/x-python",
   "name": "python",
   "nbconvert_exporter": "python",
   "pygments_lexer": "ipython3",
   "version": "3.8.10"
  }
 },
 "nbformat": 4,
 "nbformat_minor": 4
}
